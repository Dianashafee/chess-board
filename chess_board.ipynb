{
 "cells": [
  {
   "cell_type": "code",
   "execution_count": 8,
   "metadata": {},
   "outputs": [
    {
     "data": {
      "image/png": "[encoded data removed]",
      "text/plain": [
       "<Figure size 432x288 with 1 Axes>"
      ]
     },
     "metadata": {
      "needs_background": "light"
     },
     "output_type": "display_data"
    }
   ],
   "source": [
    "import numpy as np\n",
    "import matplotlib.pyplot as plt\n",
    "\n",
    "class ChessBoard:\n",
    "    white = [1,1,1]\n",
    "    blue = [0,0,1]\n",
    "    red = [1,0,0]\n",
    "    def __init__(self):\n",
    "        self.grid = np.zeros([8,8,3])\n",
    "        for i in range(8):\n",
    "            for j in range(8):\n",
    "                if (i%2==0 and j%2==0) or (i%2==1 and j%2==1):\n",
    "                    self.grid[i,j] = ChessBoard.white\n",
    "    \n",
    "          \n",
    "    def render(self):\n",
    "        plt.imshow(self.grid)\n",
    "    \n",
    "    def check_if_under_attack(self,red_x,red_y,blue_x,blue_y):\n",
    "        pass\n",
    "    def is_under_attack(self):\n",
    "        pass\n",
    "    \n",
    "    \n",
    "    def add_red(self,row,column):\n",
    "        \"\"\"\n",
    "        method that accepts a row and column as input which colors corresponding cell.\n",
    "        \"\"\"\n",
    "        self.red_y = column\n",
    "        self.red_x = row\n",
    "        self.grid[column,row] = ChessBoard.red\n",
    "        \n",
    "    def add_blue(self,row,column):\n",
    "        \"\"\"\n",
    "         method that accepts a row and column as input which colors corresponding cell.\n",
    "        \"\"\"\n",
    "        self.blue_y = column\n",
    "        self.blue_x = row\n",
    "        self.grid[column,row] = ChessBoard.blue\n",
    "    \n",
    "        \n",
    "        \n",
    "    \n",
    "board = ChessBoard()\n",
    "board.add_red(6,4)\n",
    "board.add_blue(4,6)\n",
    "board.render()\n"
   ]
  },
  {
   "cell_type": "code",
   "execution_count": null,
   "metadata": {},
   "outputs": [],
   "source": []
  }
 ],
 "metadata": {
  "kernelspec": {
   "display_name": "Python 3",
   "language": "python",
   "name": "python3"
  },
  "language_info": {
   "codemirror_mode": {
    "name": "ipython",
    "version": 3
   },
   "file_extension": ".py",
   "mimetype": "text/x-python",
   "name": "python",
   "nbconvert_exporter": "python",
   "pygments_lexer": "ipython3",
   "version": "3.9.0"
  }
 },
 "nbformat": 4,
 "nbformat_minor": 4
}
