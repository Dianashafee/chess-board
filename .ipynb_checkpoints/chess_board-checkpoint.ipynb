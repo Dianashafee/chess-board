{
 "cells": [
  {
   "cell_type": "code",
   "execution_count": null,
   "metadata": {},
   "outputs": [],
   "source": []
  },
  {
   "cell_type": "code",
   "execution_count": null,
   "metadata": {},
   "outputs": [],
   "source": []
  }
 ],
 "metadata": {
  "kernelspec": {
   "name": "python3",
   "display_name": "Python 3.9.0 64-bit ('.venv')",
   "metadata": {
    "interpreter": {
     "hash": "b4238afd0dd7ceab8d899e27181fb7d7a13735675523791a54889f0b591fb4f3"
    }
   }
  }
 },
 "nbformat": 4,
 "nbformat_minor": 4
}